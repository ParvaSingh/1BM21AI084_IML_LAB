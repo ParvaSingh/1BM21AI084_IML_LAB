{
  "metadata": {
    "language_info": {
      "codemirror_mode": {
        "name": "python",
        "version": 3
      },
      "file_extension": ".py",
      "mimetype": "text/x-python",
      "name": "python",
      "nbconvert_exporter": "python",
      "pygments_lexer": "ipython3",
      "version": "3.8"
    },
    "kernelspec": {
      "name": "python",
      "display_name": "Python (Pyodide)",
      "language": "python"
    }
  },
  "nbformat_minor": 4,
  "nbformat": 4,
  "cells": [
    {
      "cell_type": "code",
      "source": "import numpy as np\nimport pandas as pd\n\ndata = pd.read_csv(\"buy.csv\")\nconcepts = np.array(data.iloc[:,0:-1])\nprint(\"\\nInstances are:\\n\",concepts)\ntarget = np.array(data.iloc[:,-1])\nprint(\"\\nTarget Values are: \",target)\n\ndef learn(concepts, target):\n    specific_h = concepts[0].copy()\n    print(\"\\nInitialization of specific_h and genearal_h\")\n    print(\"\\nSpecific Boundary: \", specific_h)\n    general_h = [[\"?\" for i in range(len(specific_h))] for i in range(len(specific_h))]\n    print(\"\\nGeneric Boundary: \",general_h)\n\n    for i, h in enumerate(concepts):\n        print(\"\\nInstance\", i+1 , \"is \", h)\n        if target[i] == \"yes\":\n            print(\"Instance is Positive \")\n            for x in range(len(specific_h)):\n                if h[x]!= specific_h[x]:\n                    specific_h[x] ='?'\n                    general_h[x][x] ='?'\n\n        if target[i] == \"no\":\n            print(\"Instance is Negative \")\n            for x in range(len(specific_h)):\n                if h[x]!= specific_h[x]:\n                    general_h[x][x] = specific_h[x]\n                else:\n                    general_h[x][x] = '?'\n\n        print(\"Specific Bundary after \", i+1, \"Instance is \", specific_h)\n        print(\"Generic Boundary after \", i+1, \"Instance is \", general_h)\n        print(\"\\n\")\n\n    indices = [i for i, val in enumerate(general_h) if val == ['?', '?', '?', '?', '?', '?']]\n    for i in indices:\n        general_h.remove(['?', '?', '?', '?', '?', '?'])\n    return specific_h, general_h\n\ns_final, g_final = learn(concepts, target)\n\nprint(\"Final Specific_h: \", s_final, sep=\"\\n\")\nprint(\"Final General_h: \", g_final, sep=\"\\n\")",
      "metadata": {
        "trusted": true
      },
      "execution_count": 2,
      "outputs": [
        {
          "name": "stdout",
          "text": "\nInstances are:\n [['some' 'small' 'no' 'affordable' 'many']\n ['many' 'big' 'no' 'expensive' 'one']\n ['some' 'big' 'always' 'expensie' 'few']\n ['many' 'medium' 'no' 'expensive' 'many']\n ['many' 'samll' 'no' 'affordable' 'many']]\n\nTarget Values are:  ['no' 'yes' 'no' 'yes' 'yes']\n\nInitialization of specific_h and genearal_h\n\nSpecific Boundary:  ['some' 'small' 'no' 'affordable' 'many']\n\nGeneric Boundary:  [['?', '?', '?', '?', '?'], ['?', '?', '?', '?', '?'], ['?', '?', '?', '?', '?'], ['?', '?', '?', '?', '?'], ['?', '?', '?', '?', '?']]\n\nInstance 1 is  ['some' 'small' 'no' 'affordable' 'many']\nInstance is Negative \nSpecific Bundary after  1 Instance is  ['some' 'small' 'no' 'affordable' 'many']\nGeneric Boundary after  1 Instance is  [['?', '?', '?', '?', '?'], ['?', '?', '?', '?', '?'], ['?', '?', '?', '?', '?'], ['?', '?', '?', '?', '?'], ['?', '?', '?', '?', '?']]\n\n\n\nInstance 2 is  ['many' 'big' 'no' 'expensive' 'one']\nInstance is Positive \nSpecific Bundary after  2 Instance is  ['?' '?' 'no' '?' '?']\nGeneric Boundary after  2 Instance is  [['?', '?', '?', '?', '?'], ['?', '?', '?', '?', '?'], ['?', '?', '?', '?', '?'], ['?', '?', '?', '?', '?'], ['?', '?', '?', '?', '?']]\n\n\n\nInstance 3 is  ['some' 'big' 'always' 'expensie' 'few']\nInstance is Negative \nSpecific Bundary after  3 Instance is  ['?' '?' 'no' '?' '?']\nGeneric Boundary after  3 Instance is  [['?', '?', '?', '?', '?'], ['?', '?', '?', '?', '?'], ['?', '?', 'no', '?', '?'], ['?', '?', '?', '?', '?'], ['?', '?', '?', '?', '?']]\n\n\n\nInstance 4 is  ['many' 'medium' 'no' 'expensive' 'many']\nInstance is Positive \nSpecific Bundary after  4 Instance is  ['?' '?' 'no' '?' '?']\nGeneric Boundary after  4 Instance is  [['?', '?', '?', '?', '?'], ['?', '?', '?', '?', '?'], ['?', '?', 'no', '?', '?'], ['?', '?', '?', '?', '?'], ['?', '?', '?', '?', '?']]\n\n\n\nInstance 5 is  ['many' 'samll' 'no' 'affordable' 'many']\nInstance is Positive \nSpecific Bundary after  5 Instance is  ['?' '?' 'no' '?' '?']\nGeneric Boundary after  5 Instance is  [['?', '?', '?', '?', '?'], ['?', '?', '?', '?', '?'], ['?', '?', 'no', '?', '?'], ['?', '?', '?', '?', '?'], ['?', '?', '?', '?', '?']]\n\n\nFinal Specific_h: \n['?' '?' 'no' '?' '?']\nFinal General_h: \n[['?', '?', '?', '?', '?'], ['?', '?', '?', '?', '?'], ['?', '?', 'no', '?', '?'], ['?', '?', '?', '?', '?'], ['?', '?', '?', '?', '?']]\n",
          "output_type": "stream"
        }
      ]
    },
    {
      "cell_type": "code",
      "source": "",
      "metadata": {},
      "execution_count": null,
      "outputs": []
    }
  ]
}